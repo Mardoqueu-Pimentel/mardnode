{
 "cells": [
  {
   "cell_type": "code",
   "execution_count": 6,
   "metadata": {},
   "outputs": [],
   "source": [
    "o = json.loads(\"{\\\"message\\\":\\\"quero 1 <b>Prod</b>\\\",\\\"clientVersion\\\":353,\\\"clientName\\\":\\\"gipsy_danger\\\",\\\"commandToBot\\\":{\\\"command\\\":\\\"add-item\\\",\\\"prettyCommand\\\":\\\"quero %s <b>Prod</b>\\\",\\\"text\\\":\\\"Prod\\\",\\\"type\\\":1,\\\"parameters\\\":[606,54128],\\\"quantity\\\":1,\\\"subText\\\":\\\"Na categoria Prods.\\\",\\\"isUnavailable\\\":false,\\\"price\\\":10,\\\"previousPrice\\\":15,\\\"customData\\\":\\\"{\\\\\\\"version\\\\\\\":6}\\\",\\\"index\\\":1}}\")"
   ]
  },
  {
   "cell_type": "code",
   "execution_count": 7,
   "metadata": {},
   "outputs": [
    {
     "name": "stdout",
     "output_type": "stream",
     "text": [
      "{\n",
      "  \"message\": \"quero 1 <b>Prod</b>\",\n",
      "  \"clientVersion\": 353,\n",
      "  \"clientName\": \"gipsy_danger\",\n",
      "  \"commandToBot\": {\n",
      "    \"command\": \"add-item\",\n",
      "    \"prettyCommand\": \"quero %s <b>Prod</b>\",\n",
      "    \"text\": \"Prod\",\n",
      "    \"type\": 1,\n",
      "    \"parameters\": [\n",
      "      606,\n",
      "      54128\n",
      "    ],\n",
      "    \"quantity\": 1,\n",
      "    \"subText\": \"Na categoria Prods.\",\n",
      "    \"isUnavailable\": false,\n",
      "    \"price\": 10,\n",
      "    \"previousPrice\": 15,\n",
      "    \"customData\": \"{\\\"version\\\":6}\",\n",
      "    \"index\": 1\n",
      "  }\n",
      "}\n"
     ]
    }
   ],
   "source": [
    "import json\n",
    "\n",
    "print(json.dumps(o, ensure_ascii=False, indent='  '))"
   ]
  },
  {
   "cell_type": "code",
   "execution_count": null,
   "metadata": {},
   "outputs": [],
   "source": []
  }
 ],
 "metadata": {
  "kernelspec": {
   "display_name": "Python 3",
   "language": "python",
   "name": "python3"
  },
  "language_info": {
   "codemirror_mode": {
    "name": "ipython",
    "version": 3
   },
   "file_extension": ".py",
   "mimetype": "text/x-python",
   "name": "python",
   "nbconvert_exporter": "python",
   "pygments_lexer": "ipython3",
   "version": "3.7.4"
  }
 },
 "nbformat": 4,
 "nbformat_minor": 2
}
